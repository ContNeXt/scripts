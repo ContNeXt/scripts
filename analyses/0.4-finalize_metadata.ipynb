{
 "cells": [
  {
   "cell_type": "markdown",
   "metadata": {},
   "source": [
    "# Finalize metadata for ContNeXt"
   ]
  },
  {
   "cell_type": "code",
   "execution_count": 1,
   "metadata": {},
   "outputs": [],
   "source": [
    "import getpass\n",
    "import json\n",
    "import os\n",
    "import sys\n",
    "import time\n",
    "\n",
    "import pandas as pd"
   ]
  },
  {
   "cell_type": "code",
   "execution_count": 2,
   "metadata": {},
   "outputs": [
    {
     "data": {
      "text/plain": [
       "'rfigueiredo'"
      ]
     },
     "execution_count": 2,
     "metadata": {},
     "output_type": "execute_result"
    }
   ],
   "source": [
    "getpass.getuser()"
   ]
  },
  {
   "cell_type": "code",
   "execution_count": 3,
   "metadata": {},
   "outputs": [
    {
     "data": {
      "text/plain": [
       "'3.9.1 (v3.9.1:1e5d33e9b9, Dec  7 2020, 12:10:52) \\n[Clang 6.0 (clang-600.0.57)]'"
      ]
     },
     "execution_count": 3,
     "metadata": {},
     "output_type": "execute_result"
    }
   ],
   "source": [
    "sys.version"
   ]
  },
  {
   "cell_type": "code",
   "execution_count": 4,
   "metadata": {},
   "outputs": [
    {
     "data": {
      "text/plain": [
       "'Fri Jan  7 23:20:36 2022'"
      ]
     },
     "execution_count": 4,
     "metadata": {},
     "output_type": "execute_result"
    }
   ],
   "source": [
    "time.asctime()"
   ]
  },
  {
   "cell_type": "code",
   "execution_count": 5,
   "metadata": {},
   "outputs": [],
   "source": [
    "# replace here the location of the external data dir\n",
    "data_dir = os.path.join(os.path.expanduser(\"~\"), \"contnext_data\", \"data\")"
   ]
  },
  {
   "cell_type": "markdown",
   "metadata": {},
   "source": [
    "### use curation to finalize sample metadata"
   ]
  },
  {
   "cell_type": "code",
   "execution_count": 6,
   "metadata": {},
   "outputs": [],
   "source": [
    "curation = pd.read_table(os.path.join(data_dir, \"metadata\", \"metadata_manual_curation_version.tsv\"), index_col=0)\n",
    "curation = curation.fillna(\"\")"
   ]
  },
  {
   "cell_type": "code",
   "execution_count": 7,
   "metadata": {},
   "outputs": [
    {
     "data": {
      "text/plain": [
       "['',\n",
       " 'add cell line + URL',\n",
       " 'add cell type + URL',\n",
       " 'add org. part + URL',\n",
       " 'add org. part + URL;add cell type + URL',\n",
       " 'change cell type + URL',\n",
       " 'change org. part + URL',\n",
       " 'delete',\n",
       " 'ok',\n",
       " 'remove cell line + URL',\n",
       " 'remove cell type + URL',\n",
       " 'remove org. part + URL']"
      ]
     },
     "execution_count": 7,
     "metadata": {},
     "output_type": "execute_result"
    }
   ],
   "source": [
    "sorted(curation[\"curated?\"].unique())"
   ]
  },
  {
   "cell_type": "code",
   "execution_count": 8,
   "metadata": {},
   "outputs": [],
   "source": [
    "samples_to_delete = curation.loc[curation[\"curated?\"] == \"delete\"].index"
   ]
  },
  {
   "cell_type": "code",
   "execution_count": 9,
   "metadata": {},
   "outputs": [],
   "source": [
    "changed_tags = [\n",
    "    'add cell line + URL',\n",
    "    'add cell type + URL',\n",
    "    'add org. part + URL',\n",
    "    'change cell type + URL',\n",
    "    'change org. part + URL',\n",
    "    'remove cell line + URL',\n",
    "    'remove cell type + URL',\n",
    "    'remove org. part + URL'\n",
    "]\n",
    "changed_samples = curation.loc[curation[\"curated?\"].isin(changed_tags)].index"
   ]
  },
  {
   "cell_type": "code",
   "execution_count": 10,
   "metadata": {},
   "outputs": [],
   "source": [
    "original_metadata = pd.read_table(os.path.join(data_dir, \"metadata\", \"metadata_before_curation.tsv\"), index_col=0)"
   ]
  },
  {
   "cell_type": "code",
   "execution_count": 11,
   "metadata": {},
   "outputs": [],
   "source": [
    "# delete samples marked to remove\n",
    "updated_metadata = original_metadata.drop(samples_to_delete)"
   ]
  },
  {
   "cell_type": "code",
   "execution_count": 12,
   "metadata": {},
   "outputs": [],
   "source": [
    "# chcange updated samples\n",
    "for i in changed_samples:\n",
    "    updated_metadata.loc[i] = curation.loc[i]"
   ]
  },
  {
   "cell_type": "code",
   "execution_count": 13,
   "metadata": {},
   "outputs": [],
   "source": [
    "updated_metadata = updated_metadata.drop(columns=[\"manual check\", \"original organism part\", \"original cell type\", \"original cell line\"])"
   ]
  },
  {
   "cell_type": "code",
   "execution_count": 14,
   "metadata": {},
   "outputs": [],
   "source": [
    "# adjust these deprecated ids\n",
    "deprecated_ids = {\n",
    "    \"http://purl.obolibrary.org/obo/CL_0000493\": \"http://purl.obolibrary.org/obo/CL_0000815\",\n",
    "    \"http://purl.obolibrary.org/obo/CL_0000230\": \"http://purl.obolibrary.org/obo/CL_0000084\",\n",
    "}\n",
    "changed_terms = {\n",
    "    \"T lymphoblast\" : \"T cell\"\n",
    "}\n",
    "updated_metadata = updated_metadata.replace({'cell type URL': deprecated_ids})\n",
    "updated_metadata = updated_metadata.replace({'cell type': changed_terms})"
   ]
  },
  {
   "cell_type": "markdown",
   "metadata": {},
   "source": [
    "### re map selected terms"
   ]
  },
  {
   "cell_type": "code",
   "execution_count": 15,
   "metadata": {},
   "outputs": [],
   "source": [
    "remapping = {\n",
    "    \"0002190\" : \"0001013\", # adipose tissue\n",
    "    \"0014455\" : \"0001013\", # ^\n",
    "    \"0006907\" : \"0001134\", # skeletal muscle tissue\n",
    "    \"0002051\" : \"0004802\", # repiratory tract epithelium\n",
    "    \"0005384\" : \"0004802\", # ^\n",
    "    \"0001901\" : \"0004802\", # ^\n",
    "    \"0004814\" : \"0004802\", # ^\n",
    "    \"0004815\" : \"0004802\", # ^\n",
    "    \"0001304\" : \"0004911\", # epithelium of female gonad\n",
    "    \"0001870\" : \"0016529\", # cortex of cerebral lobe\n",
    "    \"0016530\" : \"0016529\", # ^\n",
    "    \"0016538\" : \"0016529\", # ^\n",
    "    \"0016540\" : \"0016529\", # ^\n",
    "    \"0002079\" : \"0002081\", # cardiac atrium\n",
    "    \"0002078\" : \"0002081\", # ^\n",
    "    \"0002084\" : \"0002082\", # cardiac ventricle\n",
    "    \"0002080\" : \"0002082\", # ^\n",
    "    \"0001675\" : \"0001800\", # sensory ganglion\n",
    "    \"0000044\" : \"0001800\", # ^\n",
    "}"
   ]
  },
  {
   "cell_type": "code",
   "execution_count": 16,
   "metadata": {},
   "outputs": [],
   "source": [
    " #id to name map\n",
    "with open(os.path.join(data_dir, \"mappings\", \"uberon_name_mappings.json\"), 'r') as f:\n",
    "    uberon_name_mappings = json.load(f)"
   ]
  },
  {
   "cell_type": "code",
   "execution_count": 17,
   "metadata": {},
   "outputs": [],
   "source": [
    " # dict w/ full replacement strings for the df\n",
    "url_prefix = \"http://purl.obolibrary.org/obo/UBERON_\"\n",
    "uberonURL_remapping = {url_prefix+k : url_prefix+v for k,v in remapping.items()}\n",
    "\n",
    "names_remapping = {uberon_name_mappings[k] : uberon_name_mappings[v] for k,v in remapping.items()}"
   ]
  },
  {
   "cell_type": "code",
   "execution_count": 18,
   "metadata": {},
   "outputs": [],
   "source": [
    " # re-map chosen ids\n",
    "updated_metadata = updated_metadata.replace({'organism part URL': uberonURL_remapping})\n",
    "updated_metadata = updated_metadata.replace({'organism part': names_remapping})"
   ]
  },
  {
   "cell_type": "code",
   "execution_count": 19,
   "metadata": {},
   "outputs": [],
   "source": [
    "updated_metadata.to_csv(os.path.join(data_dir, \"metadata\", \"final_metadata.tsv\"), sep='\\t', index=True)"
   ]
  }
 ],
 "metadata": {
  "kernelspec": {
   "display_name": "Python 3",
   "language": "python",
   "name": "python3"
  },
  "language_info": {
   "codemirror_mode": {
    "name": "ipython",
    "version": 3
   },
   "file_extension": ".py",
   "mimetype": "text/x-python",
   "name": "python",
   "nbconvert_exporter": "python",
   "pygments_lexer": "ipython3",
   "version": "3.9.1"
  }
 },
 "nbformat": 4,
 "nbformat_minor": 4
}
