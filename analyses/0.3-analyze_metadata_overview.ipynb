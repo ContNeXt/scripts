{
 "cells": [
  {
   "cell_type": "markdown",
   "metadata": {},
   "source": [
    "# Analyze metadata for ContNeXt"
   ]
  },
  {
   "cell_type": "code",
   "execution_count": 1,
   "metadata": {},
   "outputs": [],
   "source": [
    "import getpass\n",
    "import json\n",
    "import os\n",
    "import sys\n",
    "import time\n",
    "\n",
    "import pandas as pd"
   ]
  },
  {
   "cell_type": "code",
   "execution_count": 2,
   "metadata": {},
   "outputs": [
    {
     "data": {
      "text/plain": [
       "'rfigueiredo'"
      ]
     },
     "execution_count": 2,
     "metadata": {},
     "output_type": "execute_result"
    }
   ],
   "source": [
    "getpass.getuser()"
   ]
  },
  {
   "cell_type": "code",
   "execution_count": 3,
   "metadata": {},
   "outputs": [
    {
     "data": {
      "text/plain": [
       "'3.9.1 (v3.9.1:1e5d33e9b9, Dec  7 2020, 12:10:52) \\n[Clang 6.0 (clang-600.0.57)]'"
      ]
     },
     "execution_count": 3,
     "metadata": {},
     "output_type": "execute_result"
    }
   ],
   "source": [
    "sys.version"
   ]
  },
  {
   "cell_type": "code",
   "execution_count": 4,
   "metadata": {},
   "outputs": [
    {
     "data": {
      "text/plain": [
       "'Fri Jan  7 22:39:37 2022'"
      ]
     },
     "execution_count": 4,
     "metadata": {},
     "output_type": "execute_result"
    }
   ],
   "source": [
    "time.asctime()"
   ]
  },
  {
   "cell_type": "code",
   "execution_count": 5,
   "metadata": {},
   "outputs": [],
   "source": [
    "# replace here the location of the external data dir\n",
    "data_dir = os.path.join(os.path.expanduser(\"~\"), \"contnext_data\", \"data\")"
   ]
  },
  {
   "cell_type": "markdown",
   "metadata": {},
   "source": [
    "### metadata for top human platform  + ontology term name mappings"
   ]
  },
  {
   "cell_type": "code",
   "execution_count": 6,
   "metadata": {},
   "outputs": [],
   "source": [
    "metadata = pd.read_table(os.path.join(data_dir, \"metadata\", \"final_metadata.tsv\"), index_col=0)"
   ]
  },
  {
   "cell_type": "code",
   "execution_count": 7,
   "metadata": {},
   "outputs": [],
   "source": [
    "human_data = metadata[metadata['platform'].str.contains(\"GPL570\")]\n",
    "human_data = human_data.loc[human_data[\"species\"] == \"human\"]\n",
    "human_data.index.name= \"sample_id\""
   ]
  },
  {
   "cell_type": "code",
   "execution_count": 8,
   "metadata": {},
   "outputs": [],
   "source": [
    "with open(os.path.join(data_dir, \"mappings\", \"uberon_name_mappings.json\"), 'r') as f:\n",
    "    uberon_name_mappings = json.load(f)"
   ]
  },
  {
   "cell_type": "code",
   "execution_count": 9,
   "metadata": {},
   "outputs": [],
   "source": [
    "with open(os.path.join(data_dir, \"mappings\", \"CL_name_mappings.json\"), 'r') as f:\n",
    "    CL_name_mappings = json.load(f)"
   ]
  },
  {
   "cell_type": "code",
   "execution_count": 10,
   "metadata": {},
   "outputs": [],
   "source": [
    "with open(os.path.join(data_dir, \"mappings\", \"CLO_name_mappings.json\"), 'r') as f:\n",
    "    CLO_name_mappings = json.load(f)"
   ]
  },
  {
   "cell_type": "markdown",
   "metadata": {},
   "source": [
    "### Term overview"
   ]
  },
  {
   "cell_type": "markdown",
   "metadata": {},
   "source": [
    "#### tissues"
   ]
  },
  {
   "cell_type": "code",
   "execution_count": 11,
   "metadata": {},
   "outputs": [],
   "source": [
    "human_tissue_subset = human_data[human_data[\"organism part\"].notnull()]\n",
    "human_tissue_subset = human_tissue_subset[human_tissue_subset[\"organism part\"] != \"\"]\n",
    "human_tissue_subset = human_tissue_subset[human_tissue_subset['organism part URL'].str.contains(\"UBERON\")]"
   ]
  },
  {
   "cell_type": "code",
   "execution_count": 12,
   "metadata": {},
   "outputs": [
    {
     "data": {
      "text/html": [
       "<div>\n",
       "<style scoped>\n",
       "    .dataframe tbody tr th:only-of-type {\n",
       "        vertical-align: middle;\n",
       "    }\n",
       "\n",
       "    .dataframe tbody tr th {\n",
       "        vertical-align: top;\n",
       "    }\n",
       "\n",
       "    .dataframe thead th {\n",
       "        text-align: right;\n",
       "    }\n",
       "</style>\n",
       "<table border=\"1\" class=\"dataframe\">\n",
       "  <thead>\n",
       "    <tr style=\"text-align: right;\">\n",
       "      <th></th>\n",
       "      <th>dataset</th>\n",
       "      <th>platform</th>\n",
       "      <th>species</th>\n",
       "      <th>organism part</th>\n",
       "      <th>organism part URL</th>\n",
       "      <th>cell type</th>\n",
       "      <th>cell type URL</th>\n",
       "      <th>cell line</th>\n",
       "      <th>cell line URL</th>\n",
       "    </tr>\n",
       "    <tr>\n",
       "      <th>sample_id</th>\n",
       "      <th></th>\n",
       "      <th></th>\n",
       "      <th></th>\n",
       "      <th></th>\n",
       "      <th></th>\n",
       "      <th></th>\n",
       "      <th></th>\n",
       "      <th></th>\n",
       "      <th></th>\n",
       "    </tr>\n",
       "  </thead>\n",
       "  <tbody>\n",
       "    <tr>\n",
       "      <th>GSM92476</th>\n",
       "      <td>GSE4036</td>\n",
       "      <td>GPL570</td>\n",
       "      <td>human</td>\n",
       "      <td>cerebellum</td>\n",
       "      <td>http://purl.obolibrary.org/obo/UBERON_0002037</td>\n",
       "      <td>NaN</td>\n",
       "      <td>NaN</td>\n",
       "      <td>NaN</td>\n",
       "      <td>NaN</td>\n",
       "    </tr>\n",
       "    <tr>\n",
       "      <th>GSM92487</th>\n",
       "      <td>GSE4036</td>\n",
       "      <td>GPL570</td>\n",
       "      <td>human</td>\n",
       "      <td>cerebellum</td>\n",
       "      <td>http://purl.obolibrary.org/obo/UBERON_0002037</td>\n",
       "      <td>NaN</td>\n",
       "      <td>NaN</td>\n",
       "      <td>NaN</td>\n",
       "      <td>NaN</td>\n",
       "    </tr>\n",
       "    <tr>\n",
       "      <th>GSM92478</th>\n",
       "      <td>GSE4036</td>\n",
       "      <td>GPL570</td>\n",
       "      <td>human</td>\n",
       "      <td>cerebellum</td>\n",
       "      <td>http://purl.obolibrary.org/obo/UBERON_0002037</td>\n",
       "      <td>NaN</td>\n",
       "      <td>NaN</td>\n",
       "      <td>NaN</td>\n",
       "      <td>NaN</td>\n",
       "    </tr>\n",
       "    <tr>\n",
       "      <th>GSM92480</th>\n",
       "      <td>GSE4036</td>\n",
       "      <td>GPL570</td>\n",
       "      <td>human</td>\n",
       "      <td>cerebellum</td>\n",
       "      <td>http://purl.obolibrary.org/obo/UBERON_0002037</td>\n",
       "      <td>NaN</td>\n",
       "      <td>NaN</td>\n",
       "      <td>NaN</td>\n",
       "      <td>NaN</td>\n",
       "    </tr>\n",
       "    <tr>\n",
       "      <th>GSM92460</th>\n",
       "      <td>GSE4036</td>\n",
       "      <td>GPL570</td>\n",
       "      <td>human</td>\n",
       "      <td>cerebellum</td>\n",
       "      <td>http://purl.obolibrary.org/obo/UBERON_0002037</td>\n",
       "      <td>NaN</td>\n",
       "      <td>NaN</td>\n",
       "      <td>NaN</td>\n",
       "      <td>NaN</td>\n",
       "    </tr>\n",
       "    <tr>\n",
       "      <th>...</th>\n",
       "      <td>...</td>\n",
       "      <td>...</td>\n",
       "      <td>...</td>\n",
       "      <td>...</td>\n",
       "      <td>...</td>\n",
       "      <td>...</td>\n",
       "      <td>...</td>\n",
       "      <td>...</td>\n",
       "      <td>...</td>\n",
       "    </tr>\n",
       "    <tr>\n",
       "      <th>GSM4763688</th>\n",
       "      <td>GSE157363</td>\n",
       "      <td>GPL570</td>\n",
       "      <td>human</td>\n",
       "      <td>white matter</td>\n",
       "      <td>http://purl.obolibrary.org/obo/UBERON_0002316</td>\n",
       "      <td>NaN</td>\n",
       "      <td>NaN</td>\n",
       "      <td>NaN</td>\n",
       "      <td>NaN</td>\n",
       "    </tr>\n",
       "    <tr>\n",
       "      <th>GSM4763694</th>\n",
       "      <td>GSE157363</td>\n",
       "      <td>GPL570</td>\n",
       "      <td>human</td>\n",
       "      <td>white matter</td>\n",
       "      <td>http://purl.obolibrary.org/obo/UBERON_0002316</td>\n",
       "      <td>NaN</td>\n",
       "      <td>NaN</td>\n",
       "      <td>NaN</td>\n",
       "      <td>NaN</td>\n",
       "    </tr>\n",
       "    <tr>\n",
       "      <th>GSM4763695</th>\n",
       "      <td>GSE157363</td>\n",
       "      <td>GPL570</td>\n",
       "      <td>human</td>\n",
       "      <td>white matter</td>\n",
       "      <td>http://purl.obolibrary.org/obo/UBERON_0002316</td>\n",
       "      <td>NaN</td>\n",
       "      <td>NaN</td>\n",
       "      <td>NaN</td>\n",
       "      <td>NaN</td>\n",
       "    </tr>\n",
       "    <tr>\n",
       "      <th>GSM4763692</th>\n",
       "      <td>GSE157363</td>\n",
       "      <td>GPL570</td>\n",
       "      <td>human</td>\n",
       "      <td>white matter</td>\n",
       "      <td>http://purl.obolibrary.org/obo/UBERON_0002316</td>\n",
       "      <td>NaN</td>\n",
       "      <td>NaN</td>\n",
       "      <td>NaN</td>\n",
       "      <td>NaN</td>\n",
       "    </tr>\n",
       "    <tr>\n",
       "      <th>GSM4763693</th>\n",
       "      <td>GSE157363</td>\n",
       "      <td>GPL570</td>\n",
       "      <td>human</td>\n",
       "      <td>white matter</td>\n",
       "      <td>http://purl.obolibrary.org/obo/UBERON_0002316</td>\n",
       "      <td>NaN</td>\n",
       "      <td>NaN</td>\n",
       "      <td>NaN</td>\n",
       "      <td>NaN</td>\n",
       "    </tr>\n",
       "  </tbody>\n",
       "</table>\n",
       "<p>12140 rows × 9 columns</p>\n",
       "</div>"
      ],
      "text/plain": [
       "              dataset platform species organism part  \\\n",
       "sample_id                                              \n",
       "GSM92476      GSE4036   GPL570   human    cerebellum   \n",
       "GSM92487      GSE4036   GPL570   human    cerebellum   \n",
       "GSM92478      GSE4036   GPL570   human    cerebellum   \n",
       "GSM92480      GSE4036   GPL570   human    cerebellum   \n",
       "GSM92460      GSE4036   GPL570   human    cerebellum   \n",
       "...               ...      ...     ...           ...   \n",
       "GSM4763688  GSE157363   GPL570   human  white matter   \n",
       "GSM4763694  GSE157363   GPL570   human  white matter   \n",
       "GSM4763695  GSE157363   GPL570   human  white matter   \n",
       "GSM4763692  GSE157363   GPL570   human  white matter   \n",
       "GSM4763693  GSE157363   GPL570   human  white matter   \n",
       "\n",
       "                                        organism part URL cell type  \\\n",
       "sample_id                                                             \n",
       "GSM92476    http://purl.obolibrary.org/obo/UBERON_0002037       NaN   \n",
       "GSM92487    http://purl.obolibrary.org/obo/UBERON_0002037       NaN   \n",
       "GSM92478    http://purl.obolibrary.org/obo/UBERON_0002037       NaN   \n",
       "GSM92480    http://purl.obolibrary.org/obo/UBERON_0002037       NaN   \n",
       "GSM92460    http://purl.obolibrary.org/obo/UBERON_0002037       NaN   \n",
       "...                                                   ...       ...   \n",
       "GSM4763688  http://purl.obolibrary.org/obo/UBERON_0002316       NaN   \n",
       "GSM4763694  http://purl.obolibrary.org/obo/UBERON_0002316       NaN   \n",
       "GSM4763695  http://purl.obolibrary.org/obo/UBERON_0002316       NaN   \n",
       "GSM4763692  http://purl.obolibrary.org/obo/UBERON_0002316       NaN   \n",
       "GSM4763693  http://purl.obolibrary.org/obo/UBERON_0002316       NaN   \n",
       "\n",
       "           cell type URL cell line cell line URL  \n",
       "sample_id                                         \n",
       "GSM92476             NaN       NaN           NaN  \n",
       "GSM92487             NaN       NaN           NaN  \n",
       "GSM92478             NaN       NaN           NaN  \n",
       "GSM92480             NaN       NaN           NaN  \n",
       "GSM92460             NaN       NaN           NaN  \n",
       "...                  ...       ...           ...  \n",
       "GSM4763688           NaN       NaN           NaN  \n",
       "GSM4763694           NaN       NaN           NaN  \n",
       "GSM4763695           NaN       NaN           NaN  \n",
       "GSM4763692           NaN       NaN           NaN  \n",
       "GSM4763693           NaN       NaN           NaN  \n",
       "\n",
       "[12140 rows x 9 columns]"
      ]
     },
     "execution_count": 12,
     "metadata": {},
     "output_type": "execute_result"
    }
   ],
   "source": [
    "human_tissue_subset"
   ]
  },
  {
   "cell_type": "code",
   "execution_count": 13,
   "metadata": {},
   "outputs": [],
   "source": [
    "# make a dict to keep track of number of samples per uberon_id\n",
    "\n",
    "samples_per_uberon = {(k.split(\"_\")[-1]).strip() : v for k,v in dict(human_tissue_subset[\"organism part URL\"].value_counts()).items()}"
   ]
  },
  {
   "cell_type": "code",
   "execution_count": 14,
   "metadata": {},
   "outputs": [],
   "source": [
    "# make a dict to keep track of number of datasets/experiments per uberon_id\n",
    "\n",
    "exp_per_uberon = {(k.split(\"_\")[-1]).strip() : v for k,v in dict(human_tissue_subset.groupby('organism part URL').apply(lambda x: len(x['dataset'].unique()))).items()}"
   ]
  },
  {
   "cell_type": "code",
   "execution_count": 15,
   "metadata": {},
   "outputs": [],
   "source": [
    "with open(os.path.join(data_dir, \"misc_data\", \"FULL_tissue_overview.tsv\"),\"w\") as f:\n",
    "    f.write(\"UBERON_id\\ttissue_name\\tnumber_experiments\\tnumber_samples\\n\")\n",
    "    for uberon_id, _ in sorted(samples_per_uberon.items(), reverse=True, key=lambda item: item[1]):\n",
    "        f.write(f\"UBERON:{uberon_id}\\t{uberon_name_mappings[uberon_id]}\\t{exp_per_uberon[uberon_id]}\\t{samples_per_uberon[uberon_id]}\\n\")"
   ]
  },
  {
   "cell_type": "markdown",
   "metadata": {},
   "source": [
    "#### cell types"
   ]
  },
  {
   "cell_type": "code",
   "execution_count": 16,
   "metadata": {},
   "outputs": [],
   "source": [
    "human_celltype_subset = human_data[human_data[\"cell type\"].notnull()]\n",
    "human_celltype_subset = human_celltype_subset[human_celltype_subset[\"cell type\"] != \"\"]\n",
    "human_celltype_subset = human_celltype_subset[human_celltype_subset['cell type URL'].str.contains(\"CL_\")]"
   ]
  },
  {
   "cell_type": "code",
   "execution_count": 17,
   "metadata": {},
   "outputs": [],
   "source": [
    "# make a dict to keep track of number of samples per CL_id\n",
    "\n",
    "samples_per_CL = {(k.split(\"_\")[-1]).strip() : v for k,v in dict(human_celltype_subset[\"cell type URL\"].value_counts()).items()}"
   ]
  },
  {
   "cell_type": "code",
   "execution_count": 18,
   "metadata": {},
   "outputs": [],
   "source": [
    "# make a dict to keep track of number of datasets/experiments per CL_id\n",
    "\n",
    "exp_per_CL = {(k.split(\"_\")[-1]).strip() : v for k,v in dict(human_celltype_subset.groupby('cell type URL').apply(lambda x: len(x['dataset'].unique()))).items()}"
   ]
  },
  {
   "cell_type": "code",
   "execution_count": 19,
   "metadata": {},
   "outputs": [],
   "source": [
    "with open(os.path.join(data_dir, \"misc_data\", \"FULL_celltype_overview.tsv\"),\"w\") as f:\n",
    "    f.write(\"CL_id\\tcell_type_name\\tnumber_experiments\\tnumber_samples\\n\")\n",
    "    for CL_id, _ in sorted(exp_per_CL.items(), reverse=True, key=lambda item: item[1]):\n",
    "        f.write(f\"CL:{CL_id}\\t{CL_name_mappings[CL_id]}\\t{exp_per_CL[CL_id]}\\t{samples_per_CL[CL_id]}\\n\")"
   ]
  },
  {
   "cell_type": "markdown",
   "metadata": {},
   "source": [
    "#### cell lines"
   ]
  },
  {
   "cell_type": "code",
   "execution_count": 20,
   "metadata": {},
   "outputs": [],
   "source": [
    "human_cellline_subset = human_data[human_data[\"cell line\"].notnull()]\n",
    "human_cellline_subset = human_cellline_subset[human_cellline_subset[\"cell line\"] != \"\"]\n",
    "human_cellline_subset = human_cellline_subset[human_cellline_subset['cell line URL'].str.contains(\"CLO_\")]"
   ]
  },
  {
   "cell_type": "code",
   "execution_count": 21,
   "metadata": {},
   "outputs": [],
   "source": [
    "# make a dict to keep track of number of samples per CLO id\n",
    "\n",
    "samples_per_CLO = {(k.split(\"_\")[-1]).strip() : v for k,v in dict(human_cellline_subset[\"cell line URL\"].value_counts()).items()}"
   ]
  },
  {
   "cell_type": "code",
   "execution_count": 22,
   "metadata": {},
   "outputs": [],
   "source": [
    "# make a dict to keep track of number of datasets/experiments per CLO_id\n",
    "\n",
    "exp_per_CLO = {(k.split(\"_\")[-1]).strip() : v for k,v in dict(human_cellline_subset.groupby('cell line URL').apply(lambda x: len(x['dataset'].unique()))).items()}"
   ]
  },
  {
   "cell_type": "code",
   "execution_count": 25,
   "metadata": {},
   "outputs": [],
   "source": [
    "CLO_name_mappings = {}\n",
    "for i, row in human_cellline_subset.iterrows():\n",
    "    clo_id = row[\"cell line URL\"].split(\"_\")[-1]\n",
    "    if clo_id not in CLO_name_mappings:\n",
    "        CLO_name_mappings[clo_id] = row[\"cell line\"]"
   ]
  },
  {
   "cell_type": "code",
   "execution_count": 26,
   "metadata": {},
   "outputs": [],
   "source": [
    "with open(os.path.join(data_dir, \"misc_data\", \"FULL_cellline_overview.tsv\"),\"w\") as f:\n",
    "    f.write(\"CLO_id\\tcell_line_name\\tnumber_experiments\\tnumber_samples\\n\")\n",
    "    for CLO_id, _ in sorted(exp_per_CLO.items(), reverse=True, key=lambda item: item[1]):\n",
    "        f.write(f\"CLO:{CLO_id}\\t{CLO_name_mappings[CLO_id]}\\t{exp_per_CLO[CLO_id]}\\t{samples_per_CLO[CLO_id]}\\n\")"
   ]
  }
 ],
 "metadata": {
  "kernelspec": {
   "display_name": "Python 3",
   "language": "python",
   "name": "python3"
  },
  "language_info": {
   "codemirror_mode": {
    "name": "ipython",
    "version": 3
   },
   "file_extension": ".py",
   "mimetype": "text/x-python",
   "name": "python",
   "nbconvert_exporter": "python",
   "pygments_lexer": "ipython3",
   "version": "3.9.1"
  }
 },
 "nbformat": 4,
 "nbformat_minor": 4
}
